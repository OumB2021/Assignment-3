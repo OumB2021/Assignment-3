{
 "cells": [
  {
   "cell_type": "markdown",
   "metadata": {},
   "source": [
    "## Assigment 3 (100)\n",
    "- You must submit your assignment in the form of a Jupyter Notebook (.ipynb) file. No other formats will be accepted.\n",
    "- Upload your submission to Blackboard under the designated assignment section.\n",
    "- Your submission must be received by the due date and time: April 24th, 23:59 PM EST.\n",
    "- Late submissions will be penalized 20 points per day."
   ]
  },
  {
   "cell_type": "markdown",
   "metadata": {},
   "source": [
    "# Title: Online Store Inventory System\n",
    "\n",
    "## Description\n",
    "\n",
    "In this assignment, you will create a basic object-oriented inventory system for an online store. You will create classes to represent different types of products, and then use inheritance to share common attributes and methods between them.\n",
    "\n",
    "## Objectives\n",
    "\n",
    "- Understand the concept of classes and objects in Python.\n",
    "- Learn how to define and use inheritance in Python.\n",
    "- Develop a basic understanding of object-oriented programming.\n",
    "- Learn how to raise and handle exceptions in Python.\n",
    "\n",
    "## Instructions\n",
    "\n",
    "1. Create a base class called `Product` with the following attributes and methods:\n",
    "    - Attributes: `name` (string), `price` (float), and `stock` (integer).\n",
    "    - Method: `__init__(self, name, price, stock)` - Initializes the product with the given attributes.\n",
    "    - Method: `get_info(self)` - Returns a string with the product's name, price, and stock.\n",
    "    - Method: `sell(self, quantity)` - Reduces the stock by the given quantity, and returns the total price. - Raise a ValueError if the quantity is negative or if the stock is insufficient to fulfill the requested quantity. \n",
    "\n",
    "2. Create a subclass called `Electronics` that inherits from `Product`. Add the following attributes and methods:\n",
    "    - Attributes: `warranty` (integer) - The number of months the warranty lasts.\n",
    "        - Method: `__init__(self, name, price, stock, warranty)` - Initializes the electronic product with the given attributes. - Raise a ValueError if the warranty is negative in the Electronics class.\n",
    "    - Method: `get_info(self)` - Overrides the parent class method to include the warranty information.\n",
    "\n",
    "3. Create another subclass called `Clothing` that inherits from `Product`. Add the following attributes and methods:\n",
    "    - Attributes: `size` (string) - The size of the clothing item.\n",
    "    - Method: `__init__(self, name, price, stock, size)` - Initializes the clothing product with the given attributes. Raise a ValueError if the size is not a valid size string (e.g., \"XS\", \"S\", \"M\", \"L\", \"XL\", \"XXL\") in the Clothing class.\n",
    "    - Method: `get_info(self)` - Overrides the parent class method to include the size information.\n",
    "\n",
    "4. Create a `Store` class with the following attributes and methods:\n",
    "    - Attribute: `inventory` (list) - A list of products in the store.\n",
    "    - Method: `__init__(self)` - Initializes the store with an empty inventory.\n",
    "    - Method: `add_product(self, product)` - Adds a product to the inventory.\n",
    "    - Method: `sell_product(self, product_name, quantity)` - Sells the specified quantity of the product with the given name, and returns the total price. Raise a ValueError if the product is not found in the inventory. \n",
    "    - Method: `get_inventory(self)` - Returns a string representation of the store's inventory.\n",
    "\n",
    "\n",
    "\n"
   ]
  },
  {
   "cell_type": "code",
   "execution_count": null,
   "metadata": {},
   "outputs": [],
   "source": []
  },
  {
   "cell_type": "code",
   "execution_count": 1,
   "metadata": {},
   "outputs": [],
   "source": [
    "## Here are the sample test cases to check your solution can work well or not"
   ]
  },
  {
   "cell_type": "code",
   "execution_count": 2,
   "metadata": {},
   "outputs": [
    {
     "ename": "NameError",
     "evalue": "name 'Electronics' is not defined",
     "output_type": "error",
     "traceback": [
      "\u001b[1;31m-------------------------------------------------------------------------\u001b[0m",
      "\u001b[1;31mNameError\u001b[0m                               Traceback (most recent call last)",
      "\u001b[1;32m<ipython-input-2-ee8e852b548b>\u001b[0m in \u001b[0;36m<module>\u001b[1;34m\u001b[0m\n\u001b[0;32m     31\u001b[0m \u001b[1;33m\u001b[0m\u001b[0m\n\u001b[0;32m     32\u001b[0m \u001b[1;33m\u001b[0m\u001b[0m\n\u001b[1;32m---> 33\u001b[1;33m \u001b[0mmain\u001b[0m\u001b[1;33m(\u001b[0m\u001b[1;33m)\u001b[0m\u001b[1;33m\u001b[0m\u001b[1;33m\u001b[0m\u001b[0m\n\u001b[0m",
      "\u001b[1;32m<ipython-input-2-ee8e852b548b>\u001b[0m in \u001b[0;36mmain\u001b[1;34m()\u001b[0m\n\u001b[0;32m      1\u001b[0m \u001b[1;32mdef\u001b[0m \u001b[0mmain\u001b[0m\u001b[1;33m(\u001b[0m\u001b[1;33m)\u001b[0m\u001b[1;33m:\u001b[0m\u001b[1;33m\u001b[0m\u001b[1;33m\u001b[0m\u001b[0m\n\u001b[0;32m      2\u001b[0m     \u001b[1;31m# Test Case 1: Create instances of Electronics and Clothing classes\u001b[0m\u001b[1;33m\u001b[0m\u001b[1;33m\u001b[0m\u001b[1;33m\u001b[0m\u001b[0m\n\u001b[1;32m----> 3\u001b[1;33m     \u001b[0mphone\u001b[0m \u001b[1;33m=\u001b[0m \u001b[0mElectronics\u001b[0m\u001b[1;33m(\u001b[0m\u001b[1;34m\"Phone\"\u001b[0m\u001b[1;33m,\u001b[0m \u001b[1;36m700\u001b[0m\u001b[1;33m,\u001b[0m \u001b[1;36m10\u001b[0m\u001b[1;33m,\u001b[0m \u001b[1;36m24\u001b[0m\u001b[1;33m)\u001b[0m\u001b[1;33m\u001b[0m\u001b[1;33m\u001b[0m\u001b[0m\n\u001b[0m\u001b[0;32m      4\u001b[0m     \u001b[0mshirt\u001b[0m \u001b[1;33m=\u001b[0m \u001b[0mClothing\u001b[0m\u001b[1;33m(\u001b[0m\u001b[1;34m\"Shirt\"\u001b[0m\u001b[1;33m,\u001b[0m \u001b[1;36m30\u001b[0m\u001b[1;33m,\u001b[0m \u001b[1;36m25\u001b[0m\u001b[1;33m,\u001b[0m \u001b[1;34m\"L\"\u001b[0m\u001b[1;33m)\u001b[0m\u001b[1;33m\u001b[0m\u001b[1;33m\u001b[0m\u001b[0m\n\u001b[0;32m      5\u001b[0m \u001b[1;33m\u001b[0m\u001b[0m\n",
      "\u001b[1;31mNameError\u001b[0m: name 'Electronics' is not defined"
     ]
    }
   ],
   "source": [
    "def main():\n",
    "    # Test Case 1: Create instances of Electronics and Clothing classes\n",
    "    phone = Electronics(\"Phone\", 700, 10, 24)\n",
    "    shirt = Clothing(\"Shirt\", 30, 25, \"L\")\n",
    "\n",
    "    # Test Case 2: Test get_info method for Electronics and Clothing classes\n",
    "    assert phone.get_info() == \"Phone - Price: $700 - Stock: 10 - Warranty: 24 months\"\n",
    "    assert shirt.get_info() == \"Shirt - Price: $30 - Stock: 25 - Size: L\"\n",
    "\n",
    "    # Test Case 3: Test sell method for Product class\n",
    "    assert phone.sell(2) == 1400\n",
    "    assert shirt.sell(5) == 150\n",
    "    assert phone.stock == 8\n",
    "    assert shirt.stock == 20\n",
    "\n",
    "    # Test Case 4: Test Store class add_product, sell_product, and get_inventory methods\n",
    "    my_store = Store()\n",
    "    my_store.add_product(phone)\n",
    "    my_store.add_product(shirt)\n",
    "\n",
    "    assert my_store.sell_product(\"Phone\", 3) == 2100\n",
    "    assert my_store.sell_product(\"Shirt\", 10) == 300\n",
    "    assert phone.stock == 5\n",
    "    assert shirt.stock == 10\n",
    "\n",
    "    inventory_str = \"Store Inventory:\\nPhone - Price: $700 - Stock: 5 - Warranty: 24 months\\nShirt - Price: $30 - Stock: 10 - Size: L\"\n",
    "    assert my_store.get_inventory() == inventory_str\n",
    "\n",
    "    print(\"All sample test cases passed!\")\n",
    "\n",
    "\n",
    "\n",
    "main()\n"
   ]
  },
  {
   "cell_type": "code",
   "execution_count": null,
   "metadata": {},
   "outputs": [],
   "source": []
  }
 ],
 "metadata": {
  "kernelspec": {
   "display_name": "Python 3",
   "language": "python",
   "name": "python3"
  },
  "language_info": {
   "codemirror_mode": {
    "name": "ipython",
    "version": 3
   },
   "file_extension": ".py",
   "mimetype": "text/x-python",
   "name": "python",
   "nbconvert_exporter": "python",
   "pygments_lexer": "ipython3",
   "version": "3.8.3"
  }
 },
 "nbformat": 4,
 "nbformat_minor": 4
}
